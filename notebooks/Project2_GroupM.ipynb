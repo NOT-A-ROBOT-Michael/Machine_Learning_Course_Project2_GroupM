{
 "cells": [
  {
   "cell_type": "markdown",
   "metadata": {},
   "source": [
    "# MLG382 \n",
    "- ## Project 2 \n",
    "- Group M"
   ]
  },
  {
   "cell_type": "code",
   "execution_count": null,
   "metadata": {},
   "outputs": [],
   "source": [
    "import pandas as pd\n",
    "import matplotlib.pyplot as plt\n",
    "import plotly.express as px\n",
    "from datetime import date, datetime, timedelta\n",
    "from sklearn.cluster import KMeans\n",
    "from sklearn.preprocessing import StandardScaler\n",
    "from sklearn.pipeline import make_pipeline\n",
    "from sklearn.decomposition import PCA\n",
    "from sklearn.metrics import silhouette_score\n",
    "import warnings\n",
    "import numpy as np\n",
    "import seaborn as sns\n",
    "import datetime as dt\n",
    "from sklearn.preprocessing import MinMaxScaler\n",
    "from sklearn.cluster import KMeans\n",
    "from sklearn.metrics import silhouette_score\n",
    "\n",
    "warnings.simplefilter('ignore', category=Warning, lineno=0, append=False)"
   ]
  },
  {
   "cell_type": "markdown",
   "metadata": {},
   "source": [
    "# Business Understanding"
   ]
  },
  {
   "cell_type": "markdown",
   "metadata": {},
   "source": [
    "## Problem\n",
    "\n",
    "A small to medium enterprise wants to improve their marketing strategy by tailoring it to different groups of customers according to their behaviour, hoping to increase sales. They want to know which customers they should offer incentitives, to encourage them to make more purchases and spend more money. They also want to know which customers are loyal and big spenders in order to offer them rewards for supporting the business."
   ]
  },
  {
   "cell_type": "markdown",
   "metadata": {},
   "source": [
    "## Approach\n",
    "\n",
    "According to the business needs a customer segmentation based on behaviour is needed. A Regency Frequency Monetary (RFM) analysis is a good reflection of customer behaviour. Once a RFM analysis is done, customers can be segmented into groups by use of k-means clustering. Behaviour of these groups can be determined by looking at the mean of each group and a different marketing strategy can then be recommneded for a specific customer based on which group they fall under.\n"
   ]
  },
  {
   "cell_type": "markdown",
   "metadata": {},
   "source": [
    "## Data\n",
    "\n",
    "The business provides a data set containing the following information about their sales: InvoiceNo, StockCode, Description, Quantity, InvoiceDate, UnitPrice, CustomerID and Country. For a behavioural customer segmentation the geographical location is irrellevant. For the RFM data analysis we only need the InvoiceNo, Quantity, InvoiceDate, UnitPrice and Customer ID.\n"
   ]
  },
  {
   "cell_type": "markdown",
   "metadata": {},
   "source": [
    "# Data Preparation"
   ]
  },
  {
   "cell_type": "code",
   "execution_count": null,
   "metadata": {},
   "outputs": [],
   "source": [
    "# import data\n",
    "raw_df = pd.read_csv('..\\data\\\\Online_Retail.csv')\n",
    "raw_df.head()\n"
   ]
  },
  {
   "cell_type": "code",
   "execution_count": null,
   "metadata": {},
   "outputs": [],
   "source": [
    "# Understand data structure\n",
    "print(raw_df.info())"
   ]
  },
  {
   "cell_type": "code",
   "execution_count": null,
   "metadata": {},
   "outputs": [],
   "source": [
    "raw_df.isnull().sum()"
   ]
  },
  {
   "cell_type": "code",
   "execution_count": null,
   "metadata": {},
   "outputs": [],
   "source": [
    "#Data Cleaning\n",
    "# Drop 'Country' and 'InvoiceNo' columns\n",
    "processed_df = raw_df.drop(['Country','Description'], axis=1)\n",
    "\n",
    "# Remove rows with quantity less than or equal to zero\n",
    "processed_df = processed_df[processed_df['Quantity'] >= 0]\n",
    "\n",
    "# Remove rows with missing CustomerID\n",
    "processed_df = processed_df.dropna(subset=['CustomerID'])\n",
    "\n",
    "# Reset the index after removing rows\n",
    "processed_df.reset_index(drop=True, inplace=True)\n",
    "\n",
    "# Display the first few rows of the processed DataFrame\n",
    "print(processed_df.head())"
   ]
  },
  {
   "cell_type": "code",
   "execution_count": null,
   "metadata": {},
   "outputs": [],
   "source": [
    "#Data Processing\n",
    "processed_df['Quantity'] = processed_df['Quantity'].astype(int)\n",
    "processed_df['CustomerID'] = processed_df['CustomerID'].astype(str)\n",
    "print(processed_df.info())"
   ]
  },
  {
   "cell_type": "code",
   "execution_count": null,
   "metadata": {},
   "outputs": [],
   "source": [
    "processed_df['Amount'] = processed_df['Quantity']*processed_df['UnitPrice']\n",
    "rfm_ds_n = processed_df.groupby('CustomerID')['Amount'].sum()\n",
    "rfm_ds_n.reset_index()\n",
    "rfm_ds_n.columns = ['CustomerID', 'Amount']\n",
    "print(rfm_ds_n)"
   ]
  },
  {
   "cell_type": "code",
   "execution_count": null,
   "metadata": {},
   "outputs": [],
   "source": [
    "rfm_ds_f = processed_df.groupby('CustomerID')['InvoiceNo'].count()\n",
    "rfm_ds_f = rfm_ds_f.reset_index()\n",
    "rfm_ds_f.columns = ['CustomerID','Frequency']\n",
    "print(rfm_ds_f)"
   ]
  },
  {
   "cell_type": "code",
   "execution_count": null,
   "metadata": {},
   "outputs": [],
   "source": [
    "processed_df['InvoiceDate'] = pd.to_datetime(processed_df['InvoiceDate'],format='%m/%d/%Y %H:%M')\n",
    "max_date = max(processed_df['InvoiceDate'])\n",
    "processed_df['Diff'] = max_date - processed_df['InvoiceDate']\n",
    "rfm_ds_p = processed_df.groupby('CustomerID')['Diff'].min()\n",
    "rfm_ds_p = rfm_ds_p.reset_index()\n",
    "rfm_ds_p.columns = ['CustomerID', 'Diff']\n",
    "rfm_ds_p['Diff'] = rfm_ds_p['Diff'].dt.days\n",
    "print(rfm_ds_p)"
   ]
  },
  {
   "cell_type": "code",
   "execution_count": null,
   "metadata": {},
   "outputs": [],
   "source": [
    "rfm_ds_final = pd.merge(rfm_ds_n, rfm_ds_f, on='CustomerID',how='inner')\n",
    "rfm_ds_final = pd.merge(rfm_ds_final, rfm_ds_p, on='CustomerID', how='inner')\n",
    "rfm_ds_final.columns = ['CustomerID', 'Amount', 'Frequency', 'Recency']\n",
    "print(rfm_ds_final)"
   ]
  },
  {
   "cell_type": "code",
   "execution_count": null,
   "metadata": {},
   "outputs": [],
   "source": [
    "#Outliers\n",
    "Q1 = rfm_ds_final.Amount.quantile(0.25)\n",
    "Q3 = rfm_ds_final.Amount.quantile(0.75)\n",
    "IQR = Q3-Q1\n",
    "rfm_ds_final = rfm_ds_final[(rfm_ds_final.Amount > Q1 - 1.5*IQR) & (rfm_ds_final.Amount < Q3 + 1.5*IQR)]\n",
    "\n",
    "Q1 = rfm_ds_final.Recency.quantile(0.25)\n",
    "Q3 = rfm_ds_final.Recency.quantile(0.75)\n",
    "IQR = Q3-Q1\n",
    "rfm_ds_final = rfm_ds_final[(rfm_ds_final.Recency > Q1 - 1.5*IQR) & (rfm_ds_final.Recency < Q3 + 1.5*IQR)]\n",
    "\n",
    "Q1 = rfm_ds_final.Frequency.quantile(0.25)\n",
    "Q3 = rfm_ds_final.Frequency.quantile(0.75)\n",
    "IQR = Q3-Q1\n",
    "rfm_ds_final = rfm_ds_final[(rfm_ds_final.Frequency > Q1 - 1.5*IQR) & (rfm_ds_final.Frequency < Q3 + 1.5*IQR)]"
   ]
  },
  {
   "cell_type": "code",
   "execution_count": null,
   "metadata": {},
   "outputs": [],
   "source": [
    "print(rfm_ds_final.shape)"
   ]
  },
  {
   "cell_type": "code",
   "execution_count": null,
   "metadata": {},
   "outputs": [],
   "source": [
    "#scaling\n",
    "X = rfm_ds_final[['Amount', 'Frequency', 'Recency']]\n",
    "scaler = MinMaxScaler()\n",
    "rfm_ds_scaled = scaler.fit_transform(X)"
   ]
  },
  {
   "cell_type": "code",
   "execution_count": null,
   "metadata": {},
   "outputs": [],
   "source": [
    "rfm_ds_scaled = pd.DataFrame(rfm_ds_scaled)\n",
    "rfm_ds_scaled.columns = ['Amount', 'Frequency','Recency']\n",
    "rfm_ds_scaled.head()"
   ]
  },
  {
   "cell_type": "markdown",
   "metadata": {},
   "source": [
    "# Data Visualisation"
   ]
  },
  {
   "cell_type": "code",
   "execution_count": null,
   "metadata": {},
   "outputs": [],
   "source": [
    "rfm_df = rfm_ds_scaled.copy()"
   ]
  },
  {
   "cell_type": "code",
   "execution_count": null,
   "metadata": {},
   "outputs": [],
   "source": [
    "import matplotlib.pyplot as plt\n",
    "import seaborn as sns\n",
    "import pandas as pd\n",
    "\n",
    "plt.figure(figsize=(10, 6))\n",
    "sns.scatterplot(data=rfm_df, x='CustomerID', y='Recency', color='blue', edgecolor='k')\n",
    "plt.title('Recency')\n",
    "plt.xlabel('CustomerID')\n",
    "plt.ylabel('Recency')\n",
    "plt.show()\n",
    "\n",
    "\n",
    "plt.figure(figsize=(10, 6))\n",
    "sns.scatterplot(data=rfm_df, x='CustomerID', y='Frequency', color='red', edgecolor='k')\n",
    "plt.title('Frequency')\n",
    "plt.xlabel('CustomerID')\n",
    "plt.ylabel('Frequency')\n",
    "plt.show()\n",
    "\n",
    "\n",
    "plt.figure(figsize=(10, 6))\n",
    "sns.scatterplot(data=rfm_df, x='CustomerID', y='Amount', color='green', edgecolor='k')\n",
    "plt.title('Monetary')\n",
    "plt.xlabel('CustomerID')\n",
    "plt.ylabel('Monetary')\n",
    "plt.show()\n",
    "\n",
    "\n",
    "plt.figure(figsize=(10, 6))\n",
    "sns.barplot(data=rfm_df, x='CustomerID', y='Recency', color='blue', edgecolor='k')\n",
    "plt.title('Recency')\n",
    "plt.xlabel('CustomerID')\n",
    "plt.ylabel('Recency')\n",
    "plt.show()\n",
    "\n",
    "\n",
    "plt.figure(figsize=(10, 6))\n",
    "sns.barplot(data=rfm_df, x='CustomerID', y='Frequency', color='red', edgecolor='k')\n",
    "plt.title('Frequency')\n",
    "plt.xlabel('CustomerID')\n",
    "plt.ylabel('Frequency')\n",
    "plt.show()\n",
    "\n",
    "\n",
    "plt.figure(figsize=(10, 6))\n",
    "sns.barplot(data=rfm_df, x='CustomerID', y='Amount', color='green', edgecolor='k')\n",
    "plt.title('Monetary')\n",
    "plt.xlabel('CustomerID')\n",
    "plt.ylabel('Monetary')\n",
    "plt.show()\n"
   ]
  },
  {
   "cell_type": "code",
   "execution_count": null,
   "metadata": {},
   "outputs": [],
   "source": [
    "plt.figure(figsize=(10, 6))\n",
    "sns.scatterplot(data=rfm_df, x='Frequency', y='Recency', sizes=(50, 500), alpha=0.6, edgecolor='k', color='blue')\n",
    "\n",
    "\n",
    "plt.title('Frequency vs Recency')\n",
    "plt.xlabel('Frequency')\n",
    "plt.ylabel('Recency')\n",
    "\n",
    "\n",
    "\n",
    "plt.show()\n",
    "\n",
    "plt.figure(figsize=(10, 6))\n",
    "sns.scatterplot(data=rfm_df, x='Frequency', y='Amount', sizes=(50, 500), alpha=0.6, edgecolor='k', color='blue')\n",
    "\n",
    "\n",
    "plt.title('Frequency vs Monetary')\n",
    "plt.xlabel('Frequency')\n",
    "plt.ylabel('Monetary')\n",
    "\n",
    "\n",
    "plt.show()\n",
    "\n",
    "plt.figure(figsize=(10, 6))\n",
    "sns.scatterplot(data=rfm_df, x='Recency', y='Amount', sizes=(50, 500), alpha=0.6, edgecolor='k', color='blue')\n",
    "\n",
    "plt.title('Recency vs Monetary')\n",
    "plt.xlabel('Recency')\n",
    "plt.ylabel('Monetary')\n",
    "\n",
    "plt.show()"
   ]
  },
  {
   "cell_type": "code",
   "execution_count": null,
   "metadata": {},
   "outputs": [],
   "source": [
    "from mpl_toolkits.mplot3d import Axes3D\n",
    "import seaborn as sns\n",
    "\n",
    "\n",
    "fig = plt.figure(figsize=(10, 8))\n",
    "ax = fig.add_subplot(111, projection='3d')  \n",
    "\n",
    "\n",
    "scatter = ax.scatter(rfm_df['Recency'], rfm_df['Frequency'], rfm_df['Amount'], \n",
    "                     c='blue', alpha=0.6, edgecolor='k', s=50)\n",
    "\n",
    "\n",
    "ax.set_xlabel('Recency')\n",
    "ax.set_ylabel('Frequency')\n",
    "ax.set_zlabel('Monetary')\n",
    "\n",
    "\n",
    "ax.set_title('3D Plot of Recency, Frequency, and Monetary')\n",
    "\n",
    "\n",
    "plt.show()"
   ]
  },
  {
   "cell_type": "markdown",
   "metadata": {},
   "source": [
    "# Modelling"
   ]
  },
  {
   "cell_type": "code",
   "execution_count": null,
   "metadata": {},
   "outputs": [],
   "source": [
    "#model creation\n",
    "kmeans = KMeans(n_clusters= 3,max_iter= 50)\n",
    "kmeans.fit(rfm_ds_scaled)\n",
    "lbs = kmeans.labels_\n",
    "print(kmeans.labels_)"
   ]
  },
  {
   "cell_type": "code",
   "execution_count": null,
   "metadata": {},
   "outputs": [],
   "source": [
    "#model creation\n",
    "kmeans = KMeans(n_clusters= 3,max_iter= 50)\n",
    "kmeans.fit(rfm_ds_scaled)\n",
    "lbs = kmeans.labels_\n",
    "print(kmeans.labels_)"
   ]
  },
  {
   "cell_type": "code",
   "execution_count": null,
   "metadata": {},
   "outputs": [],
   "source": [
    "#silhouette score\n",
    "range_n_clusters = [2, 3, 4, 5, 6, 7, 8]\n",
    "for num_clusters in range_n_clusters:\n",
    "    kmeans = KMeans(n_clusters= num_clusters, max_iter= 50)\n",
    "    kmeans.fit(rfm_ds_scaled)\n",
    "    cluster_labels = kmeans.labels_\n",
    "    silhouette_avg = silhouette_score(rfm_ds_scaled, cluster_labels)\n",
    "    print('For n_clusters{0}, the silhouette score is {1}'.format(num_clusters, silhouette_avg))"
   ]
  },
  {
   "cell_type": "code",
   "execution_count": null,
   "metadata": {},
   "outputs": [],
   "source": [
    "X = rfm_ds_final\n",
    "X.head()"
   ]
  },
  {
   "cell_type": "code",
   "execution_count": null,
   "metadata": {},
   "outputs": [],
   "source": [
    "# final_model labels\n",
    "final_model = make_pipeline(\n",
    "    StandardScaler(),\n",
    "    KMeans(n_clusters=3, random_state=42)\n",
    ")\n",
    "# Predict class labels\n",
    "labels = final_model.fit_predict(X)\n",
    "print(labels[:10])"
   ]
  },
  {
   "cell_type": "code",
   "execution_count": null,
   "metadata": {},
   "outputs": [],
   "source": [
    "X['labels'] = final_model.named_steps[\"kmeans\"].labels_\n",
    "print(labels[:10])"
   ]
  },
  {
   "cell_type": "code",
   "execution_count": null,
   "metadata": {},
   "outputs": [],
   "source": [
    "import plotnine as pn\n",
    "from plotnine import *\n",
    "\n",
    "# Create a plot area\n",
    "p = (\n",
    "    ggplot(X, aes(x='Recency', y='Amount')) +\n",
    "    # Add points into the plot area\n",
    "    geom_point(aes(fill=X['labels'].astype(str))) +\n",
    "    # Add a blue smooth line\n",
    "    geom_smooth(color=\"blue\", se=False) +\n",
    "    # Format x-axis scale to display 'Frequency'\n",
    "    scale_x_continuous(\n",
    "        name='Recency (Days)',\n",
    "        labels=lambda x: [f'{x:,.0f}' for x in x],\n",
    "        limits=(0, 400)  # Adjust x-axis limits to zoom in\n",
    "    ) +\n",
    "    # Format y-axis scale to display 'Rands'\n",
    "    scale_y_continuous(\n",
    "        name='Amount (Rands)',\n",
    "        labels=lambda y: [f'R{y:,.0f}' for y in y]\n",
    "    ) +\n",
    "    # Add title to the plot\n",
    "    labs(title=\"Customer Clusters: Recency vs Amount\") +\n",
    "    # Add plot theme\n",
    "    theme_classic()\n",
    ")\n",
    "\n",
    "# Show the plot\n",
    "print(p)\n"
   ]
  },
  {
   "cell_type": "code",
   "execution_count": null,
   "metadata": {},
   "outputs": [],
   "source": [
    "import plotnine as pn\n",
    "from plotnine import *\n",
    "\n",
    "# Create a plot area\n",
    "p = (\n",
    "    ggplot(X, aes(x='Frequency', y='Amount')) +\n",
    "    # Add points into the plot area\n",
    "    geom_point(aes(fill=X['labels'].astype(str))) +\n",
    "    # Add a blue smooth line\n",
    "    geom_smooth(color=\"blue\", se=False) +\n",
    "    # Format x-axis scale to display 'Frequency'\n",
    "    scale_x_continuous(\n",
    "        name='Frequency',\n",
    "        labels=lambda x: [f'{x:,.0f}' for x in x],\n",
    "        limits=(0, 250)  # Adjust x-axis limits to zoom in\n",
    "    ) +\n",
    "    # Format y-axis scale to display 'Rands'\n",
    "    scale_y_continuous(\n",
    "        name='Amount (Rands)',\n",
    "        labels=lambda y: [f'R{y:,.0f}' for y in y]\n",
    "    ) +\n",
    "    # Add title to the plot\n",
    "    labs(title=\"Customer Clusters: Frequency vs Amount\") +\n",
    "    # Add plot theme\n",
    "    theme_classic()\n",
    ")\n",
    "\n",
    "# Show the plot\n",
    "print(p)"
   ]
  },
  {
   "cell_type": "markdown",
   "metadata": {},
   "source": [
    "# Web Application"
   ]
  },
  {
   "cell_type": "markdown",
   "metadata": {},
   "source": [
    "# Future Work And Reflection"
   ]
  },
  {
   "cell_type": "markdown",
   "metadata": {},
   "source": [
    "# Conclusion"
   ]
  }
 ],
 "metadata": {
  "kernelspec": {
   "display_name": "base",
   "language": "python",
   "name": "python3"
  },
  "language_info": {
   "codemirror_mode": {
    "name": "ipython",
    "version": 3
   },
   "file_extension": ".py",
   "mimetype": "text/x-python",
   "name": "python",
   "nbconvert_exporter": "python",
   "pygments_lexer": "ipython3",
   "version": "3.11.7"
  }
 },
 "nbformat": 4,
 "nbformat_minor": 2
}
